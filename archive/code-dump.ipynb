{
 "cells": [
  {
   "cell_type": "code",
   "execution_count": null,
   "metadata": {},
   "outputs": [],
   "source": [
    "df[\"epa_rounded\"] = df[\"epa\"].apply(lambda epa: epa if pd.isnull(epa) else math.floor(epa))\n",
    "\n",
    "df[\"epa_rounded\"].value_counts().sort_values()"
   ]
  },
  {
   "cell_type": "code",
   "execution_count": null,
   "metadata": {},
   "outputs": [],
   "source": [
    "pd.set_option('display.max_rows', 10)\n",
    "df.groupby(\"epa_rounded\")[\"play_type\"].value_counts().to_frame()"
   ]
  },
  {
   "cell_type": "code",
   "execution_count": null,
   "metadata": {},
   "outputs": [],
   "source": [
    "plt.figure(figsize=(20,12))\n",
    "sns.countplot(x=\"epa_rounded\", data=df, hue=\"play_type\")"
   ]
  },
  {
   "cell_type": "code",
   "execution_count": null,
   "metadata": {},
   "outputs": [],
   "source": [
    "df[df[\"epa_rounded\"] < 10][[\"game_id\",\"epa_rounded\",\"desc\"]].sort_values(\"epa_rounded\").head()"
   ]
  },
  {
   "cell_type": "code",
   "execution_count": null,
   "metadata": {},
   "outputs": [],
   "source": [
    "#import statistics as stat"
   ]
  },
  {
   "cell_type": "code",
   "execution_count": null,
   "metadata": {},
   "outputs": [],
   "source": [
    "#epa_stdev = stat.stdev(qb_total[\"epa\"])\n",
    "#cpoe_stdev = stat.stdev(qb_total[\"cpoe\"])"
   ]
  },
  {
   "cell_type": "code",
   "execution_count": null,
   "metadata": {},
   "outputs": [],
   "source": [
    "#qb_total[\"epa_stdev\"] = (qb_total[\"epa\"]-qb_total[\"epa\"].mean())/epa_stdev\n",
    "#qb_total[\"cpoe_stdev\"] = (qb_total[\"cpoe\"]-qb_total[\"cpoe\"].mean())/cpoe_stdev\n",
    "#qb_total[\"epa+cpoe\"] = qb_total[\"epa_stdev\"]+qb_total[\"cpoe_stdev\"]"
   ]
  },
  {
   "cell_type": "code",
   "execution_count": null,
   "metadata": {},
   "outputs": [],
   "source": [
    "#qb_total = qb_total.sort_values(\"epa+cpoe\",ascending=False)\n",
    "#qb_total = qb_total.reset_index()\n",
    "#qb_total = qb_total.drop(\"index\",axis=1)\n",
    "#qb_total"
   ]
  }
 ],
 "metadata": {
  "kernelspec": {
   "display_name": "Python 3",
   "language": "python",
   "name": "python3"
  },
  "language_info": {
   "codemirror_mode": {
    "name": "ipython",
    "version": 3
   },
   "file_extension": ".py",
   "mimetype": "text/x-python",
   "name": "python",
   "nbconvert_exporter": "python",
   "pygments_lexer": "ipython3",
   "version": "3.7.6"
  }
 },
 "nbformat": 4,
 "nbformat_minor": 4
}
